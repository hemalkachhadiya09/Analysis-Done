{
  "nbformat": 4,
  "nbformat_minor": 0,
  "metadata": {
    "colab": {
      "name": "Assignment_1.ipynb",
      "provenance": [],
      "collapsed_sections": []
    },
    "kernelspec": {
      "name": "python3",
      "display_name": "Python 3"
    },
    "language_info": {
      "name": "python"
    }
  },
  "cells": [
    {
      "cell_type": "markdown",
      "source": [
        "# Write a Python program to multiply a 𝑀 × 𝑁 matrix by 𝑁 × 𝐴 matrix and create a real matrix product."
      ],
      "metadata": {
        "id": "ICS8XG3rOLj_"
      }
    },
    {
      "cell_type": "code",
      "source": [
        "\n",
        "import numpy as np\n",
        "np.random.seed(99)\n",
        "x=np.random.random((4,3))\n",
        "x\n"
      ],
      "metadata": {
        "colab": {
          "base_uri": "https://localhost:8080/"
        },
        "id": "7jqLe3OLrMJc",
        "outputId": "350afa83-1ec6-498e-9ca9-1f7eaa645e82"
      },
      "execution_count": 1,
      "outputs": [
        {
          "output_type": "execute_result",
          "data": {
            "text/plain": [
              "array([[0.67227856, 0.4880784 , 0.82549517],\n",
              "       [0.03144639, 0.80804996, 0.56561742],\n",
              "       [0.2976225 , 0.04669572, 0.9906274 ],\n",
              "       [0.00682573, 0.76979303, 0.7467671 ]])"
            ]
          },
          "metadata": {},
          "execution_count": 1
        }
      ]
    },
    {
      "cell_type": "code",
      "source": [
        "\n",
        "y=np.random.random((3,4))\n",
        "y"
      ],
      "metadata": {
        "colab": {
          "base_uri": "https://localhost:8080/"
        },
        "id": "tQT_E2pZsoaM",
        "outputId": "7f7d48c1-6f83-4dbb-d2fc-c8acf64dd534"
      },
      "execution_count": 2,
      "outputs": [
        {
          "output_type": "execute_result",
          "data": {
            "text/plain": [
              "array([[0.37743894, 0.49414745, 0.92894839, 0.39545404],\n",
              "       [0.9739563 , 0.52441472, 0.09361309, 0.81330841],\n",
              "       [0.21168679, 0.55434578, 0.29226912, 0.81614236]])"
            ]
          },
          "metadata": {},
          "execution_count": 2
        }
      ]
    },
    {
      "cell_type": "code",
      "source": [
        "res = np.dot(x,y)\n",
        "res"
      ],
      "metadata": {
        "colab": {
          "base_uri": "https://localhost:8080/"
        },
        "id": "EUnOVHPEtNm7",
        "outputId": "4b4e7b01-fe22-4e9b-8f53-b2b65099f4a2"
      },
      "execution_count": 3,
      "outputs": [
        {
          "output_type": "execute_result",
          "data": {
            "text/plain": [
              "array([[0.90385755, 1.04577   , 0.91146936, 1.33653512],\n",
              "       [0.91860817, 0.75284008, 0.27016863, 1.13125377],\n",
              "       [0.36751664, 0.72070745, 0.57037707, 0.96416703],\n",
              "       [0.91040179, 0.8210309 , 0.29666042, 1.23824667]])"
            ]
          },
          "metadata": {},
          "execution_count": 3
        }
      ]
    },
    {
      "cell_type": "markdown",
      "source": [
        "#Write a NumPy program to check if each element of an array of your choice is composed of digits, lower case letters, and upper case letters only."
      ],
      "metadata": {
        "id": "LV3Jv8RzOd_Y"
      }
    },
    {
      "cell_type": "code",
      "source": [
        "\n",
        "np1 = np.array(['Python', 'PHP', 'JS', 'Examples', 'html5', '5'])\n",
        "print(np1)\n",
        "\n",
        "d1 = np.char.isdigit(np1)\n",
        "l1 = np.char.islower(np1)\n",
        "u1 = np.char.isupper(np1)\n",
        "print(\"Digits only =\", d1)\n",
        "print(\"Lower cases only =\", l1)\n",
        "print(\"Upper cases only =\", u1)\n"
      ],
      "metadata": {
        "colab": {
          "base_uri": "https://localhost:8080/"
        },
        "id": "ui8F7eLttXt7",
        "outputId": "f39804f2-a97c-458a-b29b-e83f4a45b537"
      },
      "execution_count": 39,
      "outputs": [
        {
          "output_type": "stream",
          "name": "stdout",
          "text": [
            "['Python' 'PHP' 'JS' 'Examples' 'html5' '5']\n",
            "Digits only = [False False False False False  True]\n",
            "Lower cases only = [False False False False  True False]\n",
            "Upper cases only = [False  True  True False False False]\n"
          ]
        }
      ]
    },
    {
      "cell_type": "markdown",
      "source": [
        "#Write a program thatreads two space-separated positive integers X and Y as input and perform the following tasks:"
      ],
      "metadata": {
        "id": "T0pjvgxyOqoE"
      }
    },
    {
      "cell_type": "code",
      "source": [
        "lst1=[]\n",
        "count=1\n",
        "X=int(input(\"Enter a 1st list step size : \"))\n",
        "for i in range(1,200,X):\n",
        "  if(count<=16):\n",
        "    lst1.append(i)\n",
        "    count+=1\n",
        "  else:\n",
        "    break\n",
        "lst1\n"
      ],
      "metadata": {
        "colab": {
          "base_uri": "https://localhost:8080/"
        },
        "id": "LliYpkfQO4Cp",
        "outputId": "85068daf-6e31-4ebd-e21c-04b7f8c3279e"
      },
      "execution_count": 13,
      "outputs": [
        {
          "name": "stdout",
          "output_type": "stream",
          "text": [
            "Enter a 1st list step size : 7\n"
          ]
        },
        {
          "output_type": "execute_result",
          "data": {
            "text/plain": [
              "[1, 8, 15, 22, 29, 36, 43, 50, 57, 64, 71, 78, 85, 92, 99, 106]"
            ]
          },
          "metadata": {},
          "execution_count": 13
        }
      ]
    },
    {
      "cell_type": "code",
      "source": [
        "lst2=[]\n",
        "count=1\n",
        "Y=int(input(\"Enter a 2nd list step size : \"))\n",
        "for i in range(1,200,Y):\n",
        "  if(count<=16):\n",
        "    lst2.append(i)\n",
        "    count+=1\n",
        "  else:\n",
        "    break\n",
        "lst2"
      ],
      "metadata": {
        "colab": {
          "base_uri": "https://localhost:8080/"
        },
        "id": "tG_kLqTWuakZ",
        "outputId": "b91c46bb-67c5-45e1-a6b8-0e5ba28826f0"
      },
      "execution_count": 14,
      "outputs": [
        {
          "name": "stdout",
          "output_type": "stream",
          "text": [
            "Enter a 2nd list step size : 9\n"
          ]
        },
        {
          "output_type": "execute_result",
          "data": {
            "text/plain": [
              "[1, 10, 19, 28, 37, 46, 55, 64, 73, 82, 91, 100, 109, 118, 127, 136]"
            ]
          },
          "metadata": {},
          "execution_count": 14
        }
      ]
    },
    {
      "cell_type": "code",
      "source": [
        "np1=np.array(lst1)\n",
        "np2=np.array(lst2)\n",
        "print(np1)\n",
        "print(np2)\n"
      ],
      "metadata": {
        "colab": {
          "base_uri": "https://localhost:8080/"
        },
        "id": "jZBmdJvKvhMy",
        "outputId": "9dccbe65-7d75-4b1e-ed7f-30eab01ba440"
      },
      "execution_count": 15,
      "outputs": [
        {
          "output_type": "stream",
          "name": "stdout",
          "text": [
            "[  1   8  15  22  29  36  43  50  57  64  71  78  85  92  99 106]\n",
            "[  1  10  19  28  37  46  55  64  73  82  91 100 109 118 127 136]\n"
          ]
        }
      ]
    },
    {
      "cell_type": "code",
      "source": [
        "np1.reshape((4,4))"
      ],
      "metadata": {
        "colab": {
          "base_uri": "https://localhost:8080/"
        },
        "id": "7cJ10QYSvv-K",
        "outputId": "429f0f85-dedf-403a-d017-30a0eaca96eb"
      },
      "execution_count": 16,
      "outputs": [
        {
          "output_type": "execute_result",
          "data": {
            "text/plain": [
              "array([[  1,   8,  15,  22],\n",
              "       [ 29,  36,  43,  50],\n",
              "       [ 57,  64,  71,  78],\n",
              "       [ 85,  92,  99, 106]])"
            ]
          },
          "metadata": {},
          "execution_count": 16
        }
      ]
    },
    {
      "cell_type": "code",
      "source": [
        "np2.reshape((4,4))"
      ],
      "metadata": {
        "colab": {
          "base_uri": "https://localhost:8080/"
        },
        "id": "Mpi46yMlv3nB",
        "outputId": "aa7d79f3-cac1-48eb-d7de-9827ff92baf7"
      },
      "execution_count": 17,
      "outputs": [
        {
          "output_type": "execute_result",
          "data": {
            "text/plain": [
              "array([[  1,  10,  19,  28],\n",
              "       [ 37,  46,  55,  64],\n",
              "       [ 73,  82,  91, 100],\n",
              "       [109, 118, 127, 136]])"
            ]
          },
          "metadata": {},
          "execution_count": 17
        }
      ]
    },
    {
      "cell_type": "code",
      "source": [
        "np3=np.subtract(np1,np2)\n",
        "print(np3)\n",
        "\n"
      ],
      "metadata": {
        "colab": {
          "base_uri": "https://localhost:8080/"
        },
        "id": "o7V742iWv6sC",
        "outputId": "fc276da5-d22a-4d57-e8e0-21022dbd85a6"
      },
      "execution_count": 20,
      "outputs": [
        {
          "output_type": "stream",
          "name": "stdout",
          "text": [
            "[  0  -2  -4  -6  -8 -10 -12 -14 -16 -18 -20 -22 -24 -26 -28 -30]\n"
          ]
        }
      ]
    },
    {
      "cell_type": "markdown",
      "source": [
        "Problem Statement 4: Write a Python program that takes two integer-NumPy arrays, 𝑃 and 𝑄 of \n",
        "shape [3 ∗ 3] and perform the following task:\n",
        "Task to be performed:\n",
        "Print the element-wise difference of the matrix 𝑃 and 𝑄 (𝑃 − 𝑄)."
      ],
      "metadata": {
        "id": "7aeTti1ieNUH"
      }
    },
    {
      "cell_type": "code",
      "source": [
        "np1=np.arange(1,10).reshape((3,3))\n",
        "np2=np.linspace(1,21,9).reshape((3,3))\n"
      ],
      "metadata": {
        "id": "LXdDF4Ndv_na"
      },
      "execution_count": 33,
      "outputs": []
    },
    {
      "cell_type": "code",
      "source": [
        "np3=np.subtract(np1,np2)\n",
        "# np3.reshape((3,3))\n",
        "print(np3)\n"
      ],
      "metadata": {
        "colab": {
          "base_uri": "https://localhost:8080/"
        },
        "id": "QPyRT9NbwVLp",
        "outputId": "234fd317-1d91-4984-b598-7ec3769e003d"
      },
      "execution_count": 36,
      "outputs": [
        {
          "output_type": "stream",
          "name": "stdout",
          "text": [
            "[[  0.   -1.5  -3. ]\n",
            " [ -4.5  -6.   -7.5]\n",
            " [ -9.  -10.5 -12. ]]\n"
          ]
        }
      ]
    },
    {
      "cell_type": "code",
      "source": [
        ""
      ],
      "metadata": {
        "id": "7nrhaOujwbaB"
      },
      "execution_count": null,
      "outputs": []
    }
  ]
}